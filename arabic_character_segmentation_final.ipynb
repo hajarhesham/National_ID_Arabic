{
  "cells": [
    {
      "cell_type": "markdown",
      "source": [
        "##We aim in this notebook to extract each arabic character as an image from our national id name##"
      ],
      "metadata": {
        "id": "g2csHFbBbDu5"
      }
    },
    {
      "cell_type": "code",
      "execution_count": 171,
      "metadata": {
        "colab": {
          "base_uri": "https://localhost:8080/"
        },
        "id": "RzuBSK_ZZQgz",
        "outputId": "80145f2e-fb88-4f50-f0fe-3b095006641e"
      },
      "outputs": [
        {
          "output_type": "stream",
          "name": "stdout",
          "text": [
            "Archive:  /content/names.zip\n",
            "names/اباء داود كرم منان.jpg:  mismatching \"local\" filename (names/╪з╪и╪з╪б ╪п╪з┘И╪п ┘Г╪▒┘Е ┘Е┘Ж╪з┘Ж.jpg),\n",
            "         continuing with \"central\" filename version\n",
            "replace names/اباء داود كرم منان.jpg? [y]es, [n]o, [A]ll, [N]one, [r]ename: "
          ]
        }
      ],
      "source": [
        "!unzip /content/names.zip"
      ]
    },
    {
      "cell_type": "code",
      "execution_count": 2,
      "metadata": {
        "id": "WbYttZQahtqW"
      },
      "outputs": [],
      "source": [
        "import numpy as np\n",
        "import pandas as pd\n",
        "from glob import glob\n",
        "from tqdm import tqdm\n",
        "import cv2\n",
        "import os \n",
        "import imageio \n",
        "import matplotlib.pyplot as plt\n",
        "%matplotlib inline\n",
        "\n",
        "from pathlib import Path\n",
        "from collections import Counter\n",
        "from google.colab.patches import cv2_imshow"
      ]
    },
    {
      "cell_type": "code",
      "execution_count": 3,
      "metadata": {
        "id": "R2Mg3D2XjX6I"
      },
      "outputs": [],
      "source": [
        "def binarize(image):\n",
        " #Convert an image from BGR to grayscale mode\n",
        " gray_image = cv2.cvtColor(image, cv2.COLOR_BGR2GRAY)\n",
        "   \n",
        " #Convert a grayscale image to black and white using binary thresholding \n",
        " (thresh, BnW_image) = cv2.threshold(gray_image, 45, 255, cv2.THRESH_BINARY)\n",
        " for i in range(BnW_image.shape[0]):\n",
        "    for j in range(BnW_image.shape[1]):\n",
        "      if BnW_image[i][j]==0:\n",
        "        BnW_image[i][j]=255\n",
        "      else:\n",
        "        BnW_image[i][j]=0  \n",
        "\n",
        " return BnW_image"
      ]
    },
    {
      "cell_type": "markdown",
      "metadata": {
        "id": "jECGTLH-jtaC"
      },
      "source": [
        "##Loading data of arabic names (binarized version)*"
      ]
    },
    {
      "cell_type": "code",
      "execution_count": 4,
      "metadata": {
        "colab": {
          "base_uri": "https://localhost:8080/"
        },
        "id": "UvqDw_aPjfLD",
        "outputId": "3ed34a88-6cf7-4ef3-f013-c9d65884fb16"
      },
      "outputs": [
        {
          "output_type": "stream",
          "name": "stderr",
          "text": [
            "100%|██████████| 5190/5190 [08:15<00:00, 10.48it/s]\n"
          ]
        }
      ],
      "source": [
        "# load images \n",
        "\n",
        "H = 148\n",
        "W = 250\n",
        "path=''\n",
        "images = sorted(glob(os.path.join(path, \"/content/names/*\")))\n",
        "image_list=[]\n",
        "for x in tqdm(images, total=len(images)):    \n",
        "        x = imageio.imread(x)\n",
        "        x = binarize(x)\n",
        "        x = cv2.resize(x, (H, W))\n",
        "        #x = np.expand_dims(x, axis=2)\n",
        "        image_list.append(x)"
      ]
    },
    {
      "cell_type": "code",
      "execution_count": 5,
      "metadata": {
        "colab": {
          "base_uri": "https://localhost:8080/"
        },
        "id": "9MYd_3Stjy5z",
        "outputId": "46ce37ee-6f9a-4ee5-bd7d-ae4d3af78e0c"
      },
      "outputs": [
        {
          "output_type": "execute_result",
          "data": {
            "text/plain": [
              "['اباء داود كرم منان',\n",
              " 'اباء رحال جبل حواس',\n",
              " 'اباء رياض بهيج ازور',\n",
              " 'اباء ضاوي رسول سميع',\n",
              " 'اباء عبدالغفور ذباح شداد']"
            ]
          },
          "metadata": {},
          "execution_count": 5
        }
      ],
      "source": [
        "# load labels of the images\n",
        "path = \"/content/names\"\n",
        "labels=[]\n",
        "names=os.listdir(path)\n",
        "for n in names:\n",
        "  labels.append(os.path.splitext(n)[0])\n",
        "labels=sorted(labels)\n",
        "labels[:5]"
      ]
    },
    {
      "cell_type": "markdown",
      "source": [
        "## an example of names (binarized)."
      ],
      "metadata": {
        "id": "RU5kLWZqbk2M"
      }
    },
    {
      "cell_type": "code",
      "execution_count": 173,
      "metadata": {
        "colab": {
          "base_uri": "https://localhost:8080/",
          "height": 302
        },
        "id": "vc-laXpOlxGP",
        "outputId": "8fb01ad6-296b-4e94-cf06-64f39f8b0c05"
      },
      "outputs": [
        {
          "output_type": "stream",
          "name": "stdout",
          "text": [
            "اباء داود كرم منان\n"
          ]
        },
        {
          "output_type": "display_data",
          "data": {
            "text/plain": [
              "<PIL.Image.Image image mode=L size=148x250 at 0x7FD2A166D0A0>"
            ],
            "image/png": "[encoded data removed]"
          },
          "metadata": {}
        },
        {
          "output_type": "execute_result",
          "data": {
            "text/plain": [
              "(250, 148)"
            ]
          },
          "metadata": {},
          "execution_count": 173
        }
      ],
      "source": [
        "print(labels[0])\n",
        "cv2_imshow(image_list[0])\n",
        "image_list[0].shape"
      ]
    },
    {
      "cell_type": "code",
      "execution_count": 174,
      "metadata": {
        "id": "m2sw10QCoW7-"
      },
      "outputs": [],
      "source": [
        "img = image_list[0]\n",
        "i = img.shape[0]\n",
        "j = img.shape[1]\n",
        "#cv2_imshow(img[int(i/2):, :j-1])"
      ]
    },
    {
      "cell_type": "code",
      "execution_count": 175,
      "metadata": {
        "colab": {
          "base_uri": "https://localhost:8080/",
          "height": 267
        },
        "id": "aEvJ4_FSoZQ3",
        "outputId": "633e25b4-22d2-4039-a238-1597edd0c4ba"
      },
      "outputs": [
        {
          "output_type": "display_data",
          "data": {
            "text/plain": [
              "<PIL.Image.Image image mode=L size=148x250 at 0x7FD2A3CD5A90>"
            ],
            "image/png": "[encoded data removed]"
          },
          "metadata": {}
        }
      ],
      "source": [
        "cv2_imshow(img)"
      ]
    },
    {
      "cell_type": "code",
      "execution_count": 176,
      "metadata": {
        "id": "XyTpE1naojiI"
      },
      "outputs": [],
      "source": [
        "f_n = img[:int(i/2)-1, :j-1]\n",
        "l_n = img[int(i/2):, :j-1]"
      ]
    },
    {
      "cell_type": "code",
      "execution_count": 177,
      "metadata": {
        "colab": {
          "base_uri": "https://localhost:8080/"
        },
        "id": "MVq0RNeVuu2O",
        "outputId": "851b0159-da89-4c8f-8142-d32ad026a939"
      },
      "outputs": [
        {
          "output_type": "execute_result",
          "data": {
            "text/plain": [
              "(124, 147)"
            ]
          },
          "metadata": {},
          "execution_count": 177
        }
      ],
      "source": [
        "f_n.shape"
      ]
    },
    {
      "cell_type": "markdown",
      "source": [
        "## Investigating a way of splitting (first-last) names"
      ],
      "metadata": {
        "id": "kn0qSjMub087"
      }
    },
    {
      "cell_type": "code",
      "execution_count": 178,
      "metadata": {
        "colab": {
          "base_uri": "https://localhost:8080/",
          "height": 141
        },
        "id": "9KtXHiXqon55",
        "outputId": "d46aa342-fb98-4193-bff8-a74ff8c5fbe3"
      },
      "outputs": [
        {
          "output_type": "display_data",
          "data": {
            "text/plain": [
              "<PIL.Image.Image image mode=L size=52x124 at 0x7FD2BAB20970>"
            ],
            "image/png": "[encoded data removed]"
          },
          "metadata": {}
        }
      ],
      "source": [
        "# first - name extraction\n",
        "f_n = f_n[:, 95:]\n",
        "cv2_imshow(f_n)"
      ]
    },
    {
      "cell_type": "code",
      "execution_count": 179,
      "metadata": {
        "colab": {
          "base_uri": "https://localhost:8080/",
          "height": 142
        },
        "id": "tZpCXNw8oqQR",
        "outputId": "33ef98a6-5b97-421a-9bb7-f26b15873d87"
      },
      "outputs": [
        {
          "output_type": "display_data",
          "data": {
            "text/plain": [
              "<PIL.Image.Image image mode=L size=147x125 at 0x7FD2A166D670>"
            ],
            "image/png": "[encoded data removed]"
          },
          "metadata": {}
        }
      ],
      "source": [
        "# last - name extraction\n",
        "cv2_imshow(l_n)"
      ]
    },
    {
      "cell_type": "markdown",
      "source": [
        "## the most important step is here: to extract the vertical projection profile of our image of the name so as to detect the white spaces between  words for separation (just a step in the way :)![Screenshot 2023-01-12 044001.png](data:image/png;base64,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)\n",
        "![Screenshot 2023-01-12 043659.png](data:image/png;base64,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)"
      ],
      "metadata": {
        "id": "Wa3N5lbjb_f6"
      }
    },
    {
      "cell_type": "code",
      "execution_count": 12,
      "metadata": {
        "id": "-yol4YPtor5-"
      },
      "outputs": [],
      "source": [
        "# apply the vertical projection profile here.\n",
        "def apply_vertical_proj_prof(img):\n",
        "  vertical_pixel_sum = np.sum(img, axis=0)\n",
        "  myprojection = vertical_pixel_sum / 255\n",
        "\n",
        "  blankImage = np.zeros_like(img)  \n",
        "  for i, value in enumerate(myprojection):\n",
        "    cv2.line(blankImage, (i, 0), (i, img.shape[0]-int(value)), (255, 255, 255), 1)\n",
        "\n",
        "  cv2_imshow(blankImage)\n",
        "\n",
        "  return blankImage\n",
        "  # cv2.waitKey(0)\n",
        "  "
      ]
    },
    {
      "cell_type": "code",
      "execution_count": 180,
      "metadata": {
        "colab": {
          "base_uri": "https://localhost:8080/",
          "height": 266
        },
        "id": "AMFR-haJo34O",
        "outputId": "9bf92bd6-29d9-4a1a-8e9e-137ba077e696"
      },
      "outputs": [
        {
          "output_type": "display_data",
          "data": {
            "text/plain": [
              "<PIL.Image.Image image mode=L size=52x124 at 0x7FD2A166D5B0>"
            ],
            "image/png": "[encoded data removed]"
          },
          "metadata": {}
        },
        {
          "output_type": "display_data",
          "data": {
            "text/plain": [
              "<PIL.Image.Image image mode=L size=147x125 at 0x7FD2A166D040>"
            ],
            "image/png": "[encoded data removed]"
          },
          "metadata": {}
        }
      ],
      "source": [
        "f_n_proj = apply_vertical_proj_prof(f_n)\n",
        "l_n_proj = apply_vertical_proj_prof(l_n)"
      ]
    },
    {
      "cell_type": "code",
      "execution_count": 181,
      "metadata": {
        "id": "jpAbTJxdpIfW"
      },
      "outputs": [],
      "source": [
        "stream_proj = l_n_proj[-1:, :]"
      ]
    },
    {
      "cell_type": "code",
      "execution_count": 182,
      "metadata": {
        "colab": {
          "base_uri": "https://localhost:8080/"
        },
        "id": "J4fzIOzFyWUB",
        "outputId": "99425378-955c-4eee-ccc8-639ee2d460d2"
      },
      "outputs": [
        {
          "output_type": "execute_result",
          "data": {
            "text/plain": [
              "(1, 147)"
            ]
          },
          "metadata": {},
          "execution_count": 182
        }
      ],
      "source": [
        "stream_proj.shape"
      ]
    },
    {
      "cell_type": "code",
      "execution_count": 183,
      "metadata": {
        "colab": {
          "base_uri": "https://localhost:8080/",
          "height": 34
        },
        "id": "WETFxmbqpPrd",
        "outputId": "978c9bcf-3fca-413d-bcad-6f8f99d418b8"
      },
      "outputs": [
        {
          "output_type": "display_data",
          "data": {
            "text/plain": [
              "<PIL.Image.Image image mode=L size=147x1 at 0x7FD2A166D2B0>"
            ],
            "image/png": "[encoded data removed]"
          },
          "metadata": {}
        }
      ],
      "source": [
        "cv2_imshow(stream_proj)"
      ]
    },
    {
      "cell_type": "code",
      "execution_count": 184,
      "metadata": {
        "id": "xNnfigQ9pXBn"
      },
      "outputs": [],
      "source": [
        "stream_proj_lst = l_n_proj[-1:, :][0].tolist()"
      ]
    },
    {
      "cell_type": "code",
      "execution_count": 185,
      "metadata": {
        "colab": {
          "base_uri": "https://localhost:8080/"
        },
        "id": "8iOl0zNZpddX",
        "outputId": "83a5a420-c2d6-48af-caca-3e7d36d316c6"
      },
      "outputs": [
        {
          "output_type": "execute_result",
          "data": {
            "text/plain": [
              "[255,\n",
              " 255,\n",
              " 255,\n",
              " 255,\n",
              " 255,\n",
              " 255,\n",
              " 255,\n",
              " 255,\n",
              " 0,\n",
              " 0,\n",
              " 0,\n",
              " 0,\n",
              " 0,\n",
              " 0,\n",
              " 0,\n",
              " 0,\n",
              " 0,\n",
              " 0,\n",
              " 0,\n",
              " 0,\n",
              " 0,\n",
              " 0,\n",
              " 0,\n",
              " 255,\n",
              " 0,\n",
              " 0,\n",
              " 0,\n",
              " 0,\n",
              " 0,\n",
              " 0,\n",
              " 0,\n",
              " 0,\n",
              " 0,\n",
              " 0,\n",
              " 0,\n",
              " 0,\n",
              " 0,\n",
              " 0,\n",
              " 0,\n",
              " 0,\n",
              " 0,\n",
              " 0,\n",
              " 0,\n",
              " 0,\n",
              " 0,\n",
              " 0,\n",
              " 0,\n",
              " 0,\n",
              " 0,\n",
              " 0,\n",
              " 255,\n",
              " 255,\n",
              " 255,\n",
              " 255,\n",
              " 255,\n",
              " 255,\n",
              " 255,\n",
              " 255,\n",
              " 255,\n",
              " 255,\n",
              " 0,\n",
              " 0,\n",
              " 0,\n",
              " 0,\n",
              " 0,\n",
              " 0,\n",
              " 0,\n",
              " 0,\n",
              " 0,\n",
              " 255,\n",
              " 255,\n",
              " 0,\n",
              " 0,\n",
              " 0,\n",
              " 0,\n",
              " 0,\n",
              " 0,\n",
              " 0,\n",
              " 0,\n",
              " 0,\n",
              " 0,\n",
              " 0,\n",
              " 0,\n",
              " 0,\n",
              " 0,\n",
              " 0,\n",
              " 0,\n",
              " 0,\n",
              " 0,\n",
              " 0,\n",
              " 0,\n",
              " 0,\n",
              " 255,\n",
              " 255,\n",
              " 255,\n",
              " 255,\n",
              " 255,\n",
              " 255,\n",
              " 255,\n",
              " 255,\n",
              " 255,\n",
              " 255,\n",
              " 255,\n",
              " 0,\n",
              " 0,\n",
              " 0,\n",
              " 0,\n",
              " 0,\n",
              " 0,\n",
              " 0,\n",
              " 0,\n",
              " 255,\n",
              " 0,\n",
              " 255,\n",
              " 0,\n",
              " 0,\n",
              " 0,\n",
              " 0,\n",
              " 0,\n",
              " 0,\n",
              " 0,\n",
              " 0,\n",
              " 0,\n",
              " 0,\n",
              " 0,\n",
              " 0,\n",
              " 0,\n",
              " 0,\n",
              " 0,\n",
              " 255,\n",
              " 255,\n",
              " 255,\n",
              " 255,\n",
              " 0,\n",
              " 0,\n",
              " 0,\n",
              " 0,\n",
              " 0,\n",
              " 0,\n",
              " 0,\n",
              " 0,\n",
              " 255,\n",
              " 255,\n",
              " 255,\n",
              " 255,\n",
              " 255,\n",
              " 255]"
            ]
          },
          "metadata": {},
          "execution_count": 185
        }
      ],
      "source": [
        "stream_proj_lst"
      ]
    },
    {
      "cell_type": "markdown",
      "source": [
        "## we try to detect the indices of white spaces between words"
      ],
      "metadata": {
        "id": "N_WmR9D6dYpP"
      }
    },
    {
      "cell_type": "code",
      "execution_count": 13,
      "metadata": {
        "id": "O43WOMR2ppc6"
      },
      "outputs": [],
      "source": [
        "# extract the indices and length of white spaces in our sentence\n",
        "\n",
        "def get_white_spaces_idx(stream_v_proj):\n",
        "   lst_spaces = list()\n",
        "   temp_lst = list() \n",
        "\n",
        "   for i in range(len(stream_v_proj)):\n",
        "      if stream_v_proj[i]==255:\n",
        "        if len(temp_lst)==0:\n",
        "          temp_lst.append(i)    # start point index of white space\n",
        "      elif stream_v_proj[i]==0:\n",
        "        if len(temp_lst)!=0:\n",
        "           temp_lst.append(i)   # end point index of white space\n",
        "           space_length = temp_lst[1] - temp_lst[0]\n",
        "           lst_spaces.append((temp_lst[0], temp_lst[1], space_length))\n",
        "           temp_lst = []\n",
        "\n",
        "   if len(temp_lst)!=0:\n",
        "       temp_lst.append(len(stream_v_proj))\n",
        "       space_length = temp_lst[1] - temp_lst[0]\n",
        "       lst_spaces.append((temp_lst[0], temp_lst[1], space_length))\n",
        "       temp_lst = []\n",
        "\n",
        "   return lst_spaces   "
      ]
    },
    {
      "cell_type": "code",
      "execution_count": 187,
      "metadata": {
        "colab": {
          "base_uri": "https://localhost:8080/"
        },
        "id": "tzdOneSGp8s2",
        "outputId": "7c2575be-a1b3-4df5-89cb-d2ebefc93612"
      },
      "outputs": [
        {
          "output_type": "execute_result",
          "data": {
            "text/plain": [
              "[(0, 8, 8),\n",
              " (23, 24, 1),\n",
              " (50, 60, 10),\n",
              " (69, 71, 2),\n",
              " (92, 103, 11),\n",
              " (111, 112, 1),\n",
              " (113, 114, 1),\n",
              " (129, 133, 4),\n",
              " (141, 147, 6)]"
            ]
          },
          "metadata": {},
          "execution_count": 187
        }
      ],
      "source": [
        "space_interest = get_white_spaces_idx(stream_proj_lst)\n",
        "space_interest"
      ]
    },
    {
      "cell_type": "markdown",
      "source": [
        "## A try to crop our words (segments) after detectionof white spaces"
      ],
      "metadata": {
        "id": "ezOqRzXpdtSr"
      }
    },
    {
      "cell_type": "code",
      "execution_count": 7,
      "metadata": {
        "id": "HHPFU2sUqCiZ"
      },
      "outputs": [],
      "source": [
        "def get_all_segmented_words(n, bag_spaces):\n",
        "    lst_segmented_words = list()\n",
        "    img_word = ''\n",
        "\n",
        "    for i in range(len(bag_spaces)):\n",
        "        start_ = bag_spaces[i][1]\n",
        "        if i+1 < len(bag_spaces):\n",
        "           end_ = bag_spaces[i+1][0]\n",
        "           img_word = n[:, start_:end_]\n",
        "        else:\n",
        "              break\n",
        "        if img_word.shape[1]<3:\n",
        "          continue       \n",
        "        lst_segmented_words.append(img_word)\n",
        "\n",
        "    return lst_segmented_words    \n"
      ]
    },
    {
      "cell_type": "code",
      "execution_count": 188,
      "metadata": {
        "id": "WDC1ZEtpq7mg"
      },
      "outputs": [],
      "source": [
        "imgg_words = get_all_segmented_words(l_n, space_interest)"
      ]
    },
    {
      "cell_type": "markdown",
      "source": [
        "## an example image to evaluate our word segmentation function"
      ],
      "metadata": {
        "id": "lewTV1jweApc"
      }
    },
    {
      "cell_type": "code",
      "execution_count": 135,
      "metadata": {
        "colab": {
          "base_uri": "https://localhost:8080/",
          "height": 267
        },
        "id": "PQx9yXrY41jU",
        "outputId": "d437586b-07f0-4f28-d263-64551edda353"
      },
      "outputs": [
        {
          "output_type": "display_data",
          "data": {
            "text/plain": [
              "<PIL.Image.Image image mode=L size=148x250 at 0x7FD2A17D7640>"
            ],
            "image/png": "[encoded data removed]"
          },
          "metadata": {}
        }
      ],
      "source": [
        "example = image_list[4999]\n",
        "cv2_imshow(example)"
      ]
    },
    {
      "cell_type": "code",
      "execution_count": 85,
      "metadata": {
        "id": "SQqgNlqPwpWe"
      },
      "outputs": [],
      "source": [
        "# get the name segmented: as the following:\n",
        "def segment_into_slices(img_name):\n",
        "    i = img_name.shape[0]\n",
        "    j = img_name.shape[1]\n",
        "\n",
        "    f_n = img_name[:int(i/2)-1, :j-1]\n",
        "    f_n = f_n[:, 85:]\n",
        "    # cv2_imshow(f_n)\n",
        "    l_n = img_name[int(i/2):, :j-1]\n",
        "    print('\\n')\n",
        "    # cv2_imshow(l_n)\n",
        "\n",
        "    # get the projection profile for both (f_n, l_n)\n",
        "    f_n_proj = apply_vertical_proj_prof(f_n)\n",
        "    l_n_proj = apply_vertical_proj_prof(l_n)\n",
        "\n",
        "    # detect the white spaces in the words for segmentation\n",
        "    stream_proj_lst_f_n = f_n_proj[-1:, :][0].tolist()\n",
        "    # print(stream_proj_lst_f_n)\n",
        "    stream_proj_lst_l_n = l_n_proj[-1:, :][0].tolist()\n",
        "\n",
        "    # detect the white space range in details: (start_idx, end_idx, length)\n",
        "\n",
        "    space_interest_f_n = get_white_spaces_idx(stream_proj_lst_f_n)\n",
        "    print(space_interest_f_n)\n",
        "    space_interest_l_n = get_white_spaces_idx(stream_proj_lst_l_n)\n",
        "    \n",
        "    # crop your slices!\n",
        "    lst_f_n_slices = get_all_segmented_words(f_n, space_interest_f_n)\n",
        "    lst_l_n_slices = get_all_segmented_words(l_n, space_interest_l_n)\n",
        "\n",
        "    return lst_f_n_slices, lst_l_n_slices"
      ]
    },
    {
      "cell_type": "code",
      "execution_count": 136,
      "metadata": {
        "colab": {
          "base_uri": "https://localhost:8080/",
          "height": 318
        },
        "id": "UOkmpHYP00Gz",
        "outputId": "21a2c14b-8d73-4c67-ba60-070b3ca187cc"
      },
      "outputs": [
        {
          "output_type": "stream",
          "name": "stdout",
          "text": [
            "\n",
            "\n"
          ]
        },
        {
          "output_type": "display_data",
          "data": {
            "text/plain": [
              "<PIL.Image.Image image mode=L size=62x124 at 0x7FD2A166D370>"
            ],
            "image/png": "[encoded data removed]"
          },
          "metadata": {}
        },
        {
          "output_type": "display_data",
          "data": {
            "text/plain": [
              "<PIL.Image.Image image mode=L size=147x125 at 0x7FD2A166D670>"
            ],
            "image/png": "[encoded data removed]"
          },
          "metadata": {}
        },
        {
          "output_type": "stream",
          "name": "stdout",
          "text": [
            "[(0, 18, 18), (36, 37, 1), (55, 62, 7)]\n"
          ]
        }
      ],
      "source": [
        "lst_f_n_slices, lst_l_n_slices = segment_into_slices(example)\n",
        "# segment_into_slices(example)"
      ]
    },
    {
      "cell_type": "code",
      "execution_count": 87,
      "metadata": {
        "id": "qP78qDRX1GpJ"
      },
      "outputs": [],
      "source": [
        "# visualize our results\n",
        "def visualize_name_slices(img_name, lst_f_n_slices, lst_l_n_slices):\n",
        "  print('Whole-name:')\n",
        "  cv2_imshow(img_name)\n",
        "  print('\\n')\n",
        "\n",
        "  print('First-name-slices:')\n",
        "  for i in lst_f_n_slices:\n",
        "    cv2_imshow(i)\n",
        "  print('\\n')  \n",
        "  \n",
        "  print('Last-name-slices:')\n",
        "  for i in lst_l_n_slices:\n",
        "    cv2_imshow(i)\n",
        "  print('\\n')  "
      ]
    },
    {
      "cell_type": "markdown",
      "source": [
        "## You can see here that we could get the initial segments of our name (for both first and last) names"
      ],
      "metadata": {
        "id": "kRP0HD74eZGY"
      }
    },
    {
      "cell_type": "code",
      "execution_count": 169,
      "metadata": {
        "colab": {
          "base_uri": "https://localhost:8080/",
          "height": 1000
        },
        "id": "KQMICsc52o4s",
        "outputId": "ab05371c-ca6e-4f5f-b058-46ea67499830"
      },
      "outputs": [
        {
          "output_type": "stream",
          "name": "stdout",
          "text": [
            "Whole-name:\n"
          ]
        },
        {
          "output_type": "display_data",
          "data": {
            "text/plain": [
              "<PIL.Image.Image image mode=L size=148x250 at 0x7FD2A166D310>"
            ],
            "image/png": "[encoded data removed]"
          },
          "metadata": {}
        },
        {
          "output_type": "stream",
          "name": "stdout",
          "text": [
            "\n",
            "\n",
            "First-name-slices:\n"
          ]
        },
        {
          "output_type": "display_data",
          "data": {
            "text/plain": [
              "<PIL.Image.Image image mode=L size=18x124 at 0x7FD2A166D310>"
            ],
            "image/png": "[encoded data removed]"
          },
          "metadata": {}
        },
        {
          "output_type": "display_data",
          "data": {
            "text/plain": [
              "<PIL.Image.Image image mode=L size=18x124 at 0x7FD2A166D310>"
            ],
            "image/png": "[encoded data removed]"
          },
          "metadata": {}
        },
        {
          "output_type": "stream",
          "name": "stdout",
          "text": [
            "\n",
            "\n",
            "Last-name-slices:\n"
          ]
        },
        {
          "output_type": "display_data",
          "data": {
            "text/plain": [
              "<PIL.Image.Image image mode=L size=39x125 at 0x7FD2A166DFD0>"
            ],
            "image/png": "[encoded data removed]"
          },
          "metadata": {}
        },
        {
          "output_type": "display_data",
          "data": {
            "text/plain": [
              "<PIL.Image.Image image mode=L size=3x125 at 0x7FD2A166DFD0>"
            ],
            "image/png": "[encoded data removed]"
          },
          "metadata": {}
        },
        {
          "output_type": "display_data",
          "data": {
            "text/plain": [
              "<PIL.Image.Image image mode=L size=26x125 at 0x7FD2A166DFD0>"
            ],
            "image/png": "[encoded data removed]"
          },
          "metadata": {}
        },
        {
          "output_type": "display_data",
          "data": {
            "text/plain": [
              "<PIL.Image.Image image mode=L size=45x125 at 0x7FD2A166DFD0>"
            ],
            "image/png": "[encoded data removed]"
          },
          "metadata": {}
        },
        {
          "output_type": "stream",
          "name": "stdout",
          "text": [
            "\n",
            "\n"
          ]
        }
      ],
      "source": [
        "visualize_name_slices(example, reversed(lst_f_n_slices), reversed(lst_l_n_slices))"
      ]
    },
    {
      "cell_type": "markdown",
      "metadata": {
        "id": "0_XLWp_wJpnL"
      },
      "source": [
        "##Split each segmented slice of the word into it's character building-block to be used in a further analysis: consider this segment as an example"
      ]
    },
    {
      "cell_type": "code",
      "execution_count": 153,
      "metadata": {
        "colab": {
          "base_uri": "https://localhost:8080/",
          "height": 142
        },
        "id": "vGON5Uzl20hC",
        "outputId": "37a6e70b-f8e8-409a-98f6-0319d133740f"
      },
      "outputs": [
        {
          "output_type": "display_data",
          "data": {
            "text/plain": [
              "<PIL.Image.Image image mode=L size=45x125 at 0x7FD2A17D7640>"
            ],
            "image/png": "[encoded data removed]"
          },
          "metadata": {}
        }
      ],
      "source": [
        "example2 = lst_l_n_slices[0]\n",
        "cv2_imshow(example2)"
      ]
    },
    {
      "cell_type": "code",
      "execution_count": 91,
      "metadata": {
        "id": "FZOng6rVLlLg"
      },
      "outputs": [],
      "source": [
        "def navigate_image(img_proj):\n",
        "  lst_black_pixels_count = list()\n",
        "  for c in range(img_proj.shape[1]):\n",
        "    count_ = np.histogram(img_proj[:, c])[0][0]\n",
        "    lst_black_pixels_count.append(count_)\n",
        "    \n",
        "  return lst_black_pixels_count  "
      ]
    },
    {
      "cell_type": "code",
      "execution_count": 92,
      "metadata": {
        "id": "FzdAtIHJMZb3"
      },
      "outputs": [],
      "source": [
        "def get_lst_indices(lst_black_pixels_count):\n",
        "\n",
        "  second_peak_black_pixel_count = np.unique(np.array(lst_black_pixels_count))[-3] # the second highest column\n",
        "  print(second_peak_black_pixel_count)\n",
        "\n",
        "  # select indices of columns that match or exceed that second column number of black pixels.\n",
        "  indices_splitting = np.where(np.array(lst_black_pixels_count)>second_peak_black_pixel_count)[0]\n",
        "  print(indices_splitting)\n",
        "  \n",
        "  return indices_splitting"
      ]
    },
    {
      "cell_type": "code",
      "execution_count": 190,
      "metadata": {
        "id": "PJmMA18qiv8m"
      },
      "outputs": [],
      "source": [
        "# def refine_segmentation(lst_segmented_characters):\n",
        "  \n"
      ]
    },
    {
      "cell_type": "code",
      "execution_count": 93,
      "metadata": {
        "id": "utnk4tgbJ90e"
      },
      "outputs": [],
      "source": [
        "def segment_for_each_character(segment_img):\n",
        "  print(segment_img.shape)\n",
        "  cv2_imshow(segment_img)\n",
        "  lst_segmented_characters = list()\n",
        "  segment_img_proj = apply_vertical_proj_prof(segment_img)\n",
        "\n",
        "  # count the black pixels in the vertical projection profile for this segmented slice.\n",
        "  lst_black_pixels_count = navigate_image(segment_img_proj)\n",
        "  print(sorted(lst_black_pixels_count), len(lst_black_pixels_count))\n",
        "  lst_splitting_indices = get_lst_indices(lst_black_pixels_count)\n",
        "  print(lst_splitting_indices)\n",
        "\n",
        "  start_ = 0\n",
        "  for i in lst_splitting_indices:\n",
        "    end_ = i\n",
        "    slice_ = segment_img[:, start_+1:end_+4]\n",
        "    lst_segmented_characters.append(slice_)\n",
        "    print(start_, end_, 'HII')\n",
        "    start_ = end_\n",
        "  \n",
        "  slice_ = segment_img[:, start_:] # the last slice\n",
        "  lst_segmented_characters.append(slice_)             \n",
        "        \n",
        "  \n",
        "\n",
        "  return lst_segmented_characters\n",
        "\n",
        "  # # except Exception as e:\n",
        "  # #    print('Error') \n",
        "\n",
        "  "
      ]
    },
    {
      "cell_type": "code",
      "execution_count": 154,
      "metadata": {
        "colab": {
          "base_uri": "https://localhost:8080/",
          "height": 409
        },
        "id": "mpTw1i-uKl4e",
        "outputId": "5f71308f-a01f-42de-c3fe-30917505a16a"
      },
      "outputs": [
        {
          "output_type": "stream",
          "name": "stdout",
          "text": [
            "(125, 45)\n"
          ]
        },
        {
          "output_type": "display_data",
          "data": {
            "text/plain": [
              "<PIL.Image.Image image mode=L size=45x125 at 0x7FD2BC9A5760>"
            ],
            "image/png": "[encoded data removed]"
          },
          "metadata": {}
        },
        {
          "output_type": "display_data",
          "data": {
            "text/plain": [
              "<PIL.Image.Image image mode=L size=45x125 at 0x7FD2BC9A5760>"
            ],
            "image/png": "[encoded data removed]"
          },
          "metadata": {}
        },
        {
          "output_type": "stream",
          "name": "stdout",
          "text": [
            "[7, 7, 7, 7, 8, 8, 8, 8, 9, 9, 9, 9, 9, 9, 9, 9, 9, 10, 11, 11, 11, 12, 12, 13, 13, 13, 13, 14, 15, 15, 15, 17, 17, 17, 17, 18, 18, 19, 22, 23, 24, 27, 28, 33, 34] 45\n",
            "28\n",
            "[5 6]\n",
            "[5 6]\n",
            "0 5 HII\n",
            "5 6 HII\n"
          ]
        }
      ],
      "source": [
        "lst_segmented_characters = segment_for_each_character(example2)"
      ]
    },
    {
      "cell_type": "markdown",
      "source": [
        "## this is an initial output just for evalution"
      ],
      "metadata": {
        "id": "Qdp6Tw9LfLPr"
      }
    },
    {
      "cell_type": "code",
      "execution_count": 155,
      "metadata": {
        "colab": {
          "base_uri": "https://localhost:8080/",
          "height": 496
        },
        "id": "ROp58WCM9jir",
        "outputId": "d56082e6-5ac6-4401-a5cd-602cff507c33"
      },
      "outputs": [
        {
          "output_type": "display_data",
          "data": {
            "text/plain": [
              "<PIL.Image.Image image mode=L size=8x125 at 0x7FD2A17D7A60>"
            ],
            "image/png": "[encoded data removed]"
          },
          "metadata": {}
        },
        {
          "output_type": "stream",
          "name": "stdout",
          "text": [
            "\n",
            "\n"
          ]
        },
        {
          "output_type": "display_data",
          "data": {
            "text/plain": [
              "<PIL.Image.Image image mode=L size=4x125 at 0x7FD2A3C960A0>"
            ],
            "image/png": "[encoded data removed]"
          },
          "metadata": {}
        },
        {
          "output_type": "stream",
          "name": "stdout",
          "text": [
            "\n",
            "\n"
          ]
        },
        {
          "output_type": "display_data",
          "data": {
            "text/plain": [
              "<PIL.Image.Image image mode=L size=39x125 at 0x7FD2A166D460>"
            ],
            "image/png": "[encoded data removed]"
          },
          "metadata": {}
        },
        {
          "output_type": "stream",
          "name": "stdout",
          "text": [
            "\n",
            "\n"
          ]
        }
      ],
      "source": [
        "for i in lst_segmented_characters:\n",
        "  cv2_imshow(i)\n",
        "  print('\\n')"
      ]
    },
    {
      "cell_type": "code",
      "source": [
        "slice_1 = lst_segmented_characters[0]\n",
        "slice_2 = lst_segmented_characters[1]\n",
        "slice_3 = lst_segmented_characters[2]"
      ],
      "metadata": {
        "id": "DUhQaZGlgG-S"
      },
      "execution_count": 144,
      "outputs": []
    },
    {
      "cell_type": "code",
      "source": [
        "slice_1.shape, slice_2.shape, slice_3.shape,"
      ],
      "metadata": {
        "colab": {
          "base_uri": "https://localhost:8080/"
        },
        "id": "ibpM_TqagWuh",
        "outputId": "b22f6335-4926-4ded-ca34-178e4ee1af80"
      },
      "execution_count": 145,
      "outputs": [
        {
          "output_type": "execute_result",
          "data": {
            "text/plain": [
              "((125, 20), (125, 4), (125, 7))"
            ]
          },
          "metadata": {},
          "execution_count": 145
        }
      ]
    },
    {
      "cell_type": "code",
      "execution_count": null,
      "metadata": {
        "id": "qHeepJX8KpdN"
      },
      "outputs": [],
      "source": [
        "n = np.array([1, 2, 3])"
      ]
    },
    {
      "cell_type": "code",
      "execution_count": null,
      "metadata": {
        "colab": {
          "base_uri": "https://localhost:8080/"
        },
        "id": "qwnwnSg3M9W0",
        "outputId": "5e80972b-4865-4836-e491-cb18f9e3e2f2"
      },
      "outputs": [
        {
          "data": {
            "text/plain": [
              "2"
            ]
          },
          "execution_count": 532,
          "metadata": {},
          "output_type": "execute_result"
        }
      ],
      "source": [
        "n[-2]"
      ]
    },
    {
      "cell_type": "markdown",
      "source": [
        "## it's a try to apply the character segmentation iteratively on our word to try detecting single characters as possible!"
      ],
      "metadata": {
        "id": "gzHpworBfYQO"
      }
    },
    {
      "cell_type": "code",
      "source": [
        "def decide_if_to_segment(segment_image):\n",
        "  cpy_segment_image = segment_image\n",
        "  lst_final_segments = list()\n",
        " \n",
        "  while True:\n",
        "   need_segmentation = False \n",
        "   lst_segmented_characters = segment_for_each_character(cpy_segment_image) \n",
        "   for i in range(len(lst_segmented_characters)):\n",
        "     slice_ = lst_segmented_characters[i]\n",
        "     if slice_.shape[1] in range(7, 15): # if the segmented slice no of columns is within this range --> it's a character.\n",
        "       lst_final_segments.append(slice_)\n",
        "     elif slice_.shape[1] < 7:\n",
        "       continue\n",
        "     else:\n",
        "       cpy_segment_image = slice_\n",
        "       need_segmentation=True\n",
        "       break\n",
        "   if not(need_segmentation):\n",
        "     break    \n",
        "\n",
        "  \n",
        "  return lst_final_segments \n"
      ],
      "metadata": {
        "id": "-TjKz3gXjKfT"
      },
      "execution_count": 216,
      "outputs": []
    },
    {
      "cell_type": "code",
      "source": [
        "cv2_imshow(example2)"
      ],
      "metadata": {
        "colab": {
          "base_uri": "https://localhost:8080/",
          "height": 142
        },
        "id": "m25fA5rrrwA9",
        "outputId": "5f270f23-3daf-47b6-f0d6-285d31d4d44c"
      },
      "execution_count": 217,
      "outputs": [
        {
          "output_type": "display_data",
          "data": {
            "text/plain": [
              "<PIL.Image.Image image mode=L size=45x125 at 0x7FD2A14B4FA0>"
            ],
            "image/png": "[encoded data removed]"
          },
          "metadata": {}
        }
      ]
    },
    {
      "cell_type": "code",
      "source": [
        "lst_final_segments = decide_if_to_segment(example2)"
      ],
      "metadata": {
        "colab": {
          "base_uri": "https://localhost:8080/",
          "height": 1000
        },
        "id": "MPgMHUDyrqt4",
        "outputId": "b9b31847-3f6a-44c6-8afe-fc2f77e18a88"
      },
      "execution_count": 218,
      "outputs": [
        {
          "output_type": "stream",
          "name": "stdout",
          "text": [
            "(125, 45)\n"
          ]
        },
        {
          "output_type": "display_data",
          "data": {
            "text/plain": [
              "<PIL.Image.Image image mode=L size=45x125 at 0x7FD2A14B4FD0>"
            ],
            "image/png": "[encoded data removed]"
          },
          "metadata": {}
        },
        {
          "output_type": "display_data",
          "data": {
            "text/plain": [
              "<PIL.Image.Image image mode=L size=45x125 at 0x7FD2A1501340>"
            ],
            "image/png": "[encoded data removed]"
          },
          "metadata": {}
        },
        {
          "output_type": "stream",
          "name": "stdout",
          "text": [
            "[7, 7, 7, 7, 8, 8, 8, 8, 9, 9, 9, 9, 9, 9, 9, 9, 9, 10, 11, 11, 11, 12, 12, 13, 13, 13, 13, 14, 15, 15, 15, 17, 17, 17, 17, 18, 18, 19, 22, 23, 24, 27, 28, 33, 34] 45\n",
            "28\n",
            "[5 6]\n",
            "[5 6]\n",
            "0 5 HII\n",
            "5 6 HII\n",
            "(125, 39)\n"
          ]
        },
        {
          "output_type": "display_data",
          "data": {
            "text/plain": [
              "<PIL.Image.Image image mode=L size=39x125 at 0x7FD2A14B4100>"
            ],
            "image/png": "[encoded data removed]"
          },
          "metadata": {}
        },
        {
          "output_type": "display_data",
          "data": {
            "text/plain": [
              "<PIL.Image.Image image mode=L size=39x125 at 0x7FD2A14B4100>"
            ],
            "image/png": "[encoded data removed]"
          },
          "metadata": {}
        },
        {
          "output_type": "stream",
          "name": "stdout",
          "text": [
            "[7, 7, 7, 7, 8, 8, 8, 8, 9, 9, 9, 9, 9, 9, 9, 9, 9, 10, 11, 11, 11, 12, 12, 13, 13, 13, 13, 14, 15, 15, 15, 17, 17, 17, 17, 19, 23, 24, 33] 39\n",
            "23\n",
            "[ 0 11]\n",
            "[ 0 11]\n",
            "0 0 HII\n",
            "0 11 HII\n",
            "(125, 28)\n"
          ]
        },
        {
          "output_type": "display_data",
          "data": {
            "text/plain": [
              "<PIL.Image.Image image mode=L size=28x125 at 0x7FD2A1501760>"
            ],
            "image/png": "[encoded data removed]"
          },
          "metadata": {}
        },
        {
          "output_type": "display_data",
          "data": {
            "text/plain": [
              "<PIL.Image.Image image mode=L size=28x125 at 0x7FD2A1501760>"
            ],
            "image/png": "[encoded data removed]"
          },
          "metadata": {}
        },
        {
          "output_type": "stream",
          "name": "stdout",
          "text": [
            "[7, 7, 7, 7, 8, 8, 8, 8, 9, 9, 9, 9, 9, 9, 9, 9, 9, 11, 12, 12, 13, 13, 13, 15, 15, 17, 19, 24] 28\n",
            "17\n",
            "[ 0 10]\n",
            "[ 0 10]\n",
            "0 0 HII\n",
            "0 10 HII\n",
            "(125, 18)\n"
          ]
        },
        {
          "output_type": "display_data",
          "data": {
            "text/plain": [
              "<PIL.Image.Image image mode=L size=18x125 at 0x7FD2A14B4EE0>"
            ],
            "image/png": "[encoded data removed]"
          },
          "metadata": {}
        },
        {
          "output_type": "display_data",
          "data": {
            "text/plain": [
              "<PIL.Image.Image image mode=L size=18x125 at 0x7FD2A1501340>"
            ],
            "image/png": "[encoded data removed]"
          },
          "metadata": {}
        },
        {
          "output_type": "stream",
          "name": "stdout",
          "text": [
            "[7, 7, 7, 8, 8, 9, 9, 9, 9, 9, 9, 9, 11, 13, 13, 15, 15, 19] 18\n",
            "13\n",
            "[ 0  1 16]\n",
            "[ 0  1 16]\n",
            "0 0 HII\n",
            "0 1 HII\n",
            "1 16 HII\n",
            "(125, 16)\n"
          ]
        },
        {
          "output_type": "display_data",
          "data": {
            "text/plain": [
              "<PIL.Image.Image image mode=L size=16x125 at 0x7FD2A1501640>"
            ],
            "image/png": "[encoded data removed]"
          },
          "metadata": {}
        },
        {
          "output_type": "display_data",
          "data": {
            "text/plain": [
              "<PIL.Image.Image image mode=L size=16x125 at 0x7FD2A1501640>"
            ],
            "image/png": "[encoded data removed]"
          },
          "metadata": {}
        },
        {
          "output_type": "stream",
          "name": "stdout",
          "text": [
            "[7, 7, 7, 8, 8, 9, 9, 9, 9, 9, 9, 9, 11, 13, 13, 15] 16\n",
            "11\n",
            "[11 14 15]\n",
            "[11 14 15]\n",
            "0 11 HII\n",
            "11 14 HII\n",
            "14 15 HII\n"
          ]
        }
      ]
    },
    {
      "cell_type": "markdown",
      "source": [
        "## Here the output is good for this segment word.\n",
        "## it still need more enhancement"
      ],
      "metadata": {
        "id": "0ztlJym7frgN"
      }
    },
    {
      "cell_type": "code",
      "source": [
        "for i in reversed(lst_final_segments):\n",
        "  cv2_imshow(i)\n",
        "  print(i.shape)"
      ],
      "metadata": {
        "colab": {
          "base_uri": "https://localhost:8080/",
          "height": 586
        },
        "id": "wE2t-8-ECyOc",
        "outputId": "a728f9d3-4ea3-4336-d4d5-5b293d03fb7b"
      },
      "execution_count": 219,
      "outputs": [
        {
          "output_type": "display_data",
          "data": {
            "text/plain": [
              "<PIL.Image.Image image mode=L size=14x125 at 0x7FD2A14B4670>"
            ],
            "image/png": "[encoded data removed]"
          },
          "metadata": {}
        },
        {
          "output_type": "stream",
          "name": "stdout",
          "text": [
            "(125, 14)\n"
          ]
        },
        {
          "output_type": "display_data",
          "data": {
            "text/plain": [
              "<PIL.Image.Image image mode=L size=13x125 at 0x7FD2A1501B50>"
            ],
            "image/png": "[encoded data removed]"
          },
          "metadata": {}
        },
        {
          "output_type": "stream",
          "name": "stdout",
          "text": [
            "(125, 13)\n"
          ]
        },
        {
          "output_type": "display_data",
          "data": {
            "text/plain": [
              "<PIL.Image.Image image mode=L size=14x125 at 0x7FD2A14B4070>"
            ],
            "image/png": "[encoded data removed]"
          },
          "metadata": {}
        },
        {
          "output_type": "stream",
          "name": "stdout",
          "text": [
            "(125, 14)\n"
          ]
        },
        {
          "output_type": "display_data",
          "data": {
            "text/plain": [
              "<PIL.Image.Image image mode=L size=8x125 at 0x7FD2A14B4DF0>"
            ],
            "image/png": "[encoded data removed]"
          },
          "metadata": {}
        },
        {
          "output_type": "stream",
          "name": "stdout",
          "text": [
            "(125, 8)\n"
          ]
        }
      ]
    },
    {
      "cell_type": "code",
      "source": [
        "# for i in range(len(image_list)):\n",
        "#   cv2.imwrite('/content/generated_images/img_{%d}.jpg'%(i+1) , image_list[i])"
      ],
      "metadata": {
        "id": "gfTKE0oMC8kV"
      },
      "execution_count": 168,
      "outputs": []
    },
    {
      "cell_type": "code",
      "source": [
        "# import glob\n",
        "# for name in glob.glob('/content/generated_images/img_*.jpg'):\n",
        "#     print(name)"
      ],
      "metadata": {
        "id": "gE4Q0b_RgU6j"
      },
      "execution_count": 196,
      "outputs": []
    },
    {
      "cell_type": "markdown",
      "source": [
        "## Consider here another evalution example"
      ],
      "metadata": {
        "id": "y9BW8XpPiaIA"
      }
    },
    {
      "cell_type": "code",
      "source": [
        "cv2_imshow(image_list[666])"
      ],
      "metadata": {
        "colab": {
          "base_uri": "https://localhost:8080/",
          "height": 267
        },
        "id": "IUb_KtDzguce",
        "outputId": "8260e791-88ec-43a8-91db-05d4255269df"
      },
      "execution_count": 220,
      "outputs": [
        {
          "output_type": "display_data",
          "data": {
            "text/plain": [
              "<PIL.Image.Image image mode=L size=148x250 at 0x7FD2A14B4700>"
            ],
            "image/png": "[encoded data removed]"
          },
          "metadata": {}
        }
      ]
    },
    {
      "cell_type": "code",
      "source": [
        "example3 = image_list[666]\n",
        "lst_f_n_slices3, lst_l_n_slices3 = segment_into_slices(example3)\n",
        "# segment_into_slices(example)"
      ],
      "metadata": {
        "colab": {
          "base_uri": "https://localhost:8080/",
          "height": 318
        },
        "id": "5qH-5x13hA1G",
        "outputId": "750581bb-1cbf-45e5-c59c-bbf6bb4fee13"
      },
      "execution_count": 221,
      "outputs": [
        {
          "output_type": "stream",
          "name": "stdout",
          "text": [
            "\n",
            "\n"
          ]
        },
        {
          "output_type": "display_data",
          "data": {
            "text/plain": [
              "<PIL.Image.Image image mode=L size=62x124 at 0x7FD2A14B4700>"
            ],
            "image/png": "[encoded data removed]"
          },
          "metadata": {}
        },
        {
          "output_type": "display_data",
          "data": {
            "text/plain": [
              "<PIL.Image.Image image mode=L size=147x125 at 0x7FD2A14B4700>"
            ],
            "image/png": "[encoded data removed]"
          },
          "metadata": {}
        },
        {
          "output_type": "stream",
          "name": "stdout",
          "text": [
            "[(0, 16, 16), (34, 35, 1), (57, 62, 5)]\n"
          ]
        }
      ]
    },
    {
      "cell_type": "code",
      "source": [
        "visualize_name_slices(example3, reversed(lst_f_n_slices3), reversed(lst_l_n_slices3))"
      ],
      "metadata": {
        "colab": {
          "base_uri": "https://localhost:8080/",
          "height": 1000
        },
        "id": "PvpEVNGTht3i",
        "outputId": "b4f0ed60-637f-4e9d-d1f6-35de5951f0e2"
      },
      "execution_count": 222,
      "outputs": [
        {
          "output_type": "stream",
          "name": "stdout",
          "text": [
            "Whole-name:\n"
          ]
        },
        {
          "output_type": "display_data",
          "data": {
            "text/plain": [
              "<PIL.Image.Image image mode=L size=148x250 at 0x7FD2A14B4A30>"
            ],
            "image/png": "[encoded data removed]"
          },
          "metadata": {}
        },
        {
          "output_type": "stream",
          "name": "stdout",
          "text": [
            "\n",
            "\n",
            "First-name-slices:\n"
          ]
        },
        {
          "output_type": "display_data",
          "data": {
            "text/plain": [
              "<PIL.Image.Image image mode=L size=22x124 at 0x7FD2A3C961C0>"
            ],
            "image/png": "[encoded data removed]"
          },
          "metadata": {}
        },
        {
          "output_type": "display_data",
          "data": {
            "text/plain": [
              "<PIL.Image.Image image mode=L size=18x124 at 0x7FD2A3C961C0>"
            ],
            "image/png": "[encoded data removed]"
          },
          "metadata": {}
        },
        {
          "output_type": "stream",
          "name": "stdout",
          "text": [
            "\n",
            "\n",
            "Last-name-slices:\n"
          ]
        },
        {
          "output_type": "display_data",
          "data": {
            "text/plain": [
              "<PIL.Image.Image image mode=L size=20x125 at 0x7FD2A14B4E50>"
            ],
            "image/png": "[encoded data removed]"
          },
          "metadata": {}
        },
        {
          "output_type": "display_data",
          "data": {
            "text/plain": [
              "<PIL.Image.Image image mode=L size=9x125 at 0x7FD2A15014C0>"
            ],
            "image/png": "[encoded data removed]"
          },
          "metadata": {}
        },
        {
          "output_type": "display_data",
          "data": {
            "text/plain": [
              "<PIL.Image.Image image mode=L size=12x125 at 0x7FD2A15014C0>"
            ],
            "image/png": "[encoded data removed]"
          },
          "metadata": {}
        },
        {
          "output_type": "display_data",
          "data": {
            "text/plain": [
              "<PIL.Image.Image image mode=L size=3x125 at 0x7FD2A15014C0>"
            ],
            "image/png": "[encoded data removed]"
          },
          "metadata": {}
        },
        {
          "output_type": "display_data",
          "data": {
            "text/plain": [
              "<PIL.Image.Image image mode=L size=21x125 at 0x7FD2A15014C0>"
            ],
            "image/png": "[encoded data removed]"
          },
          "metadata": {}
        },
        {
          "output_type": "display_data",
          "data": {
            "text/plain": [
              "<PIL.Image.Image image mode=L size=8x125 at 0x7FD2A15014C0>"
            ],
            "image/png": "[encoded data removed]"
          },
          "metadata": {}
        },
        {
          "output_type": "display_data",
          "data": {
            "text/plain": [
              "<PIL.Image.Image image mode=L size=37x125 at 0x7FD2A14B4D00>"
            ],
            "image/png": "[encoded data removed]"
          },
          "metadata": {}
        },
        {
          "output_type": "stream",
          "name": "stdout",
          "text": [
            "\n",
            "\n"
          ]
        }
      ]
    },
    {
      "cell_type": "code",
      "source": [
        "seg = lst_f_n_slices3[0]\n",
        "lst_segmented_characters3 = decide_if_to_segment(seg)"
      ],
      "metadata": {
        "colab": {
          "base_uri": "https://localhost:8080/",
          "height": 387
        },
        "id": "oidnp5nQitVf",
        "outputId": "f838c787-b929-405b-c603-41ce322fd03c"
      },
      "execution_count": 225,
      "outputs": [
        {
          "output_type": "stream",
          "name": "stdout",
          "text": [
            "(124, 18)\n"
          ]
        },
        {
          "output_type": "display_data",
          "data": {
            "text/plain": [
              "<PIL.Image.Image image mode=L size=18x124 at 0x7FD2A14B43A0>"
            ],
            "image/png": "[encoded data removed]"
          },
          "metadata": {}
        },
        {
          "output_type": "display_data",
          "data": {
            "text/plain": [
              "<PIL.Image.Image image mode=L size=18x124 at 0x7FD2A14B43A0>"
            ],
            "image/png": "[encoded data removed]"
          },
          "metadata": {}
        },
        {
          "output_type": "stream",
          "name": "stdout",
          "text": [
            "[6, 9, 9, 9, 9, 11, 13, 14, 16, 17, 20, 20, 23, 24, 24, 25, 27, 31] 18\n",
            "25\n",
            "[ 5 13]\n",
            "[ 5 13]\n",
            "0 5 HII\n",
            "5 13 HII\n"
          ]
        }
      ]
    },
    {
      "cell_type": "code",
      "source": [
        "for i in lst_segmented_characters3:\n",
        "  cv2_imshow(i)"
      ],
      "metadata": {
        "colab": {
          "base_uri": "https://localhost:8080/",
          "height": 265
        },
        "id": "DtoEjaVii3cX",
        "outputId": "5098749f-4d69-4c67-9f03-338ba0ac9cda"
      },
      "execution_count": 226,
      "outputs": [
        {
          "output_type": "display_data",
          "data": {
            "text/plain": [
              "<PIL.Image.Image image mode=L size=8x124 at 0x7FD2A14B42B0>"
            ],
            "image/png": "[encoded data removed]"
          },
          "metadata": {}
        },
        {
          "output_type": "display_data",
          "data": {
            "text/plain": [
              "<PIL.Image.Image image mode=L size=11x124 at 0x7FD2A14B42B0>"
            ],
            "image/png": "[encoded data removed]"
          },
          "metadata": {}
        }
      ]
    },
    {
      "cell_type": "markdown",
      "source": [
        "## We could reach a great advance in the task of segmentation for arabic characters segmentation but, still there is a room for more adjustment for more better results, if possible ! "
      ],
      "metadata": {
        "id": "gDngHV_wkfJX"
      }
    },
    {
      "cell_type": "code",
      "source": [],
      "metadata": {
        "id": "Vhr-5BSui_Ac"
      },
      "execution_count": null,
      "outputs": []
    }
  ],
  "metadata": {
    "colab": {
      "provenance": []
    },
    "kernelspec": {
      "display_name": "Python 3",
      "name": "python3"
    },
    "language_info": {
      "name": "python"
    }
  },
  "nbformat": 4,
  "nbformat_minor": 0
}